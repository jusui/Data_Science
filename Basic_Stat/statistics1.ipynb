{
 "cells": [
  {
   "cell_type": "markdown",
   "metadata": {},
   "source": [
    "# 統計学を学ぶ(1)"
   ]
  },
  {
   "cell_type": "raw",
   "metadata": {},
   "source": [
    "学習項目"
   ]
  },
  {
   "cell_type": "markdown",
   "metadata": {},
   "source": [
    "データの視覚的表現\n",
    "\n",
    "(i)質的変数：データを分類するものを値とする．その値をカテゴリと言う．\n",
    "(ii)データが数で表され，データの種類ではなく，その値の大小に意味を持つ．"
   ]
  },
  {
   "cell_type": "code",
   "execution_count": 1,
   "metadata": {},
   "outputs": [],
   "source": [
    "Physics =  [\"D\", \"B\", \"C\", \"B\", \"D\", \"B\", \"D\", \"C\", \"C\", \"C\", \"S\", \"C\", \"A\", \"B\", \"B\", \"C\", \"B\", \"C\",\n",
    "    \"S\", \"B\", \"A\", \"A\", \"C\", \"B\", \"B\", \"C\", \"B\", \"B\", \"C\", \"B\", \"C\", \"A\", \"B\", \"C\", \"D\", \"C\", \"B\", \"C\",\n",
    "    \"D\", \"C\", \"D\", \"D\", \"C\", \"C\", \"B\", \"B\", \"C\", \"C\", \"B\", \"C\", \"B\", \"D\", \"C\", \"B\", \"C\", \"C\", \"B\", \"A\",\n",
    "    \"B\", \"B\", \"B\", \"B\", \"B\", \"C\", \"C\", \"C\", \"B\", \"D\", \"C\", \"C\", \"B\", \"C\", \"C\", \"C\", \"C\", \"S\", \"C\", \"C\",\n",
    "    \"D\", \"B\"]"
   ]
  },
  {
   "cell_type": "code",
   "execution_count": 2,
   "metadata": {},
   "outputs": [
    {
     "name": "stdout",
     "output_type": "stream",
     "text": [
      "{'B', 'C', 'S', 'D', 'A'}\n"
     ]
    }
   ],
   "source": [
    "Grades = set(Physics)\n",
    "print(Grades)"
   ]
  },
  {
   "cell_type": "code",
   "execution_count": 3,
   "metadata": {},
   "outputs": [
    {
     "name": "stdout",
     "output_type": "stream",
     "text": [
      "{'B': 28, 'S': 3, 'A': 5, 'D': 10, 'C': 34}\n"
     ]
    }
   ],
   "source": [
    "# count() で表にする\n",
    "degree = { key: Physics.count(key) for key in Grades}\n",
    "print(degree)"
   ]
  },
  {
   "cell_type": "code",
   "execution_count": 4,
   "metadata": {},
   "outputs": [
    {
     "name": "stdout",
     "output_type": "stream",
     "text": [
      "{'B': 28, 'S': 3, 'A': 5, 'D': 10, 'C': 34}\n"
     ]
    }
   ],
   "source": [
    "# table関数に定義\n",
    "def table(lst):\n",
    "    return {key:lst.count(key) for key in set(lst)}\n",
    "print(table(Physics))"
   ]
  },
  {
   "cell_type": "code",
   "execution_count": 5,
   "metadata": {},
   "outputs": [
    {
     "data": {
      "text/html": [
       "<div>\n",
       "<table border=\"1\" class=\"dataframe\">\n",
       "  <thead>\n",
       "    <tr style=\"text-align: right;\">\n",
       "      <th></th>\n",
       "      <th>A</th>\n",
       "      <th>B</th>\n",
       "      <th>C</th>\n",
       "      <th>D</th>\n",
       "      <th>S</th>\n",
       "    </tr>\n",
       "  </thead>\n",
       "  <tbody>\n",
       "    <tr>\n",
       "      <th>度数</th>\n",
       "      <td>5</td>\n",
       "      <td>28</td>\n",
       "      <td>34</td>\n",
       "      <td>10</td>\n",
       "      <td>3</td>\n",
       "    </tr>\n",
       "  </tbody>\n",
       "</table>\n",
       "</div>"
      ],
      "text/plain": [
       "    A   B   C   D  S\n",
       "度数  5  28  34  10  3"
      ]
     },
     "execution_count": 5,
     "metadata": {},
     "output_type": "execute_result"
    }
   ],
   "source": [
    "import pandas as pd\n",
    "df = pd.DataFrame({key:[degree[key]] for key in degree})\n",
    "df.index = ['度数']\n",
    "df"
   ]
  },
  {
   "cell_type": "code",
   "execution_count": 6,
   "metadata": {},
   "outputs": [
    {
     "data": {
      "text/plain": [
       "([<matplotlib.axis.XTick at 0x11cea6780>,\n",
       "  <matplotlib.axis.XTick at 0x11cecab38>,\n",
       "  <matplotlib.axis.XTick at 0x11ceb4860>,\n",
       "  <matplotlib.axis.XTick at 0x11cf17be0>,\n",
       "  <matplotlib.axis.XTick at 0x11cf275f8>],\n",
       " <a list of 5 Text xticklabel objects>)"
      ]
     },
     "execution_count": 6,
     "metadata": {},
     "output_type": "execute_result"
    },
    {
     "data": {
      "image/png": "[encoded data removed]",
      "text/plain": [
       "<matplotlib.figure.Figure at 0x11b4c08d0>"
      ]
     },
     "metadata": {},
     "output_type": "display_data"
    }
   ],
   "source": [
    "# Histogramを作る\n",
    "%matplotlib inline\n",
    "import matplotlib.pyplot as plt\n",
    "ind = range(len(degree.keys()))\n",
    "plt.bar(ind, degree.values()) # bar\n",
    "plt.xticks(ind, degree.keys())"
   ]
  },
  {
   "cell_type": "code",
   "execution_count": 7,
   "metadata": {},
   "outputs": [
    {
     "name": "stdout",
     "output_type": "stream",
     "text": [
      "Help on function bar in module matplotlib.pyplot:\n",
      "\n",
      "bar(left, height, width=0.8, bottom=None, hold=None, data=None, **kwargs)\n",
      "    Make a bar plot.\n",
      "    \n",
      "    Make a bar plot with rectangles bounded by:\n",
      "    \n",
      "      `left`, `left` + `width`, `bottom`, `bottom` + `height`\n",
      "            (left, right, bottom and top edges)\n",
      "    \n",
      "    Parameters\n",
      "    ----------\n",
      "    left : sequence of scalars\n",
      "        the x coordinates of the left sides of the bars\n",
      "    \n",
      "    height : sequence of scalars\n",
      "        the heights of the bars\n",
      "    \n",
      "    width : scalar or array-like, optional\n",
      "        the width(s) of the bars\n",
      "        default: 0.8\n",
      "    \n",
      "    bottom : scalar or array-like, optional\n",
      "        the y coordinate(s) of the bars\n",
      "        default: None\n",
      "    \n",
      "    color : scalar or array-like, optional\n",
      "        the colors of the bar faces\n",
      "    \n",
      "    edgecolor : scalar or array-like, optional\n",
      "        the colors of the bar edges\n",
      "    \n",
      "    linewidth : scalar or array-like, optional\n",
      "        width of bar edge(s). If None, use default\n",
      "        linewidth; If 0, don't draw edges.\n",
      "        default: None\n",
      "    \n",
      "    tick_label : string or array-like, optional\n",
      "        the tick labels of the bars\n",
      "        default: None\n",
      "    \n",
      "    xerr : scalar or array-like, optional\n",
      "        if not None, will be used to generate errorbar(s) on the bar chart\n",
      "        default: None\n",
      "    \n",
      "    yerr : scalar or array-like, optional\n",
      "        if not None, will be used to generate errorbar(s) on the bar chart\n",
      "        default: None\n",
      "    \n",
      "    ecolor : scalar or array-like, optional\n",
      "        specifies the color of errorbar(s)\n",
      "        default: None\n",
      "    \n",
      "    capsize : scalar, optional\n",
      "       determines the length in points of the error bar caps\n",
      "       default: None, which will take the value from the\n",
      "       ``errorbar.capsize`` :data:`rcParam<matplotlib.rcParams>`.\n",
      "    \n",
      "    error_kw : dict, optional\n",
      "        dictionary of kwargs to be passed to errorbar method. *ecolor* and\n",
      "        *capsize* may be specified here rather than as independent kwargs.\n",
      "    \n",
      "    align : {'center', 'edge'}, optional\n",
      "        If 'edge', aligns bars by their left edges (for vertical bars) and\n",
      "        by their bottom edges (for horizontal bars). If 'center', interpret\n",
      "        the `left` argument as the coordinates of the centers of the bars.\n",
      "        To align on the align bars on the right edge pass a negative\n",
      "        `width`.\n",
      "    \n",
      "    orientation : {'vertical',  'horizontal'}, optional\n",
      "        The orientation of the bars.\n",
      "    \n",
      "    log : boolean, optional\n",
      "        If true, sets the axis to be log scale.\n",
      "        default: False\n",
      "    \n",
      "    Returns\n",
      "    -------\n",
      "    bars : matplotlib.container.BarContainer\n",
      "        Container with all of the bars + errorbars\n",
      "    \n",
      "    Notes\n",
      "    -----\n",
      "    The optional arguments `color`, `edgecolor`, `linewidth`,\n",
      "    `xerr`, and `yerr` can be either scalars or sequences of\n",
      "    length equal to the number of bars.  This enables you to use\n",
      "    bar as the basis for stacked bar charts, or candlestick plots.\n",
      "    Detail: `xerr` and `yerr` are passed directly to\n",
      "    :meth:`errorbar`, so they can also have shape 2xN for\n",
      "    independent specification of lower and upper errors.\n",
      "    \n",
      "    Other optional kwargs:\n",
      "    \n",
      "      agg_filter: unknown\n",
      "      alpha: float or None \n",
      "      animated: [True | False] \n",
      "      antialiased or aa: [True | False]  or None for default \n",
      "      axes: an :class:`~matplotlib.axes.Axes` instance \n",
      "      capstyle: ['butt' | 'round' | 'projecting'] \n",
      "      clip_box: a :class:`matplotlib.transforms.Bbox` instance \n",
      "      clip_on: [True | False] \n",
      "      clip_path: [ (:class:`~matplotlib.path.Path`, :class:`~matplotlib.transforms.Transform`) | :class:`~matplotlib.patches.Patch` | None ] \n",
      "      color: matplotlib color spec\n",
      "      contains: a callable function \n",
      "      edgecolor or ec: mpl color spec, None, 'none', or 'auto' \n",
      "      facecolor or fc: mpl color spec, or None for default, or 'none' for no color \n",
      "      figure: a :class:`matplotlib.figure.Figure` instance \n",
      "      fill: [True | False] \n",
      "      gid: an id string \n",
      "      hatch: ['/' | '\\\\' | '|' | '-' | '+' | 'x' | 'o' | 'O' | '.' | '*'] \n",
      "      joinstyle: ['miter' | 'round' | 'bevel'] \n",
      "      label: string or anything printable with '%s' conversion. \n",
      "      linestyle or ls: ['solid' | 'dashed', 'dashdot', 'dotted' | (offset, on-off-dash-seq) | ``'-'`` | ``'--'`` | ``'-.'`` | ``':'`` | ``'None'`` | ``' '`` | ``''``]\n",
      "      linewidth or lw: float or None for default \n",
      "      path_effects: unknown\n",
      "      picker: [None|float|boolean|callable] \n",
      "      rasterized: [True | False | None] \n",
      "      sketch_params: unknown\n",
      "      snap: unknown\n",
      "      transform: :class:`~matplotlib.transforms.Transform` instance \n",
      "      url: a url string \n",
      "      visible: [True | False] \n",
      "      zorder: any number \n",
      "    \n",
      "    See also\n",
      "    --------\n",
      "    barh: Plot a horizontal bar plot.\n",
      "    \n",
      "    Examples\n",
      "    --------\n",
      "    \n",
      "    **Example:** A stacked bar chart.\n",
      "    \n",
      "    .. plot:: mpl_examples/pylab_examples/bar_stacked.py\n",
      "    \n",
      "    .. note::\n",
      "        In addition to the above described arguments, this function can take a\n",
      "        **data** keyword argument. If such a **data** argument is given, the\n",
      "        following arguments are replaced by **data[<arg>]**:\n",
      "    \n",
      "        * All arguments with the following names: 'bottom', 'color', 'ecolor', 'edgecolor', 'height', 'left', 'linewidth', 'tick_label', 'width', 'xerr', 'yerr'.\n",
      "\n"
     ]
    }
   ],
   "source": [
    "help(plt.bar) # bar method manual"
   ]
  },
  {
   "cell_type": "code",
   "execution_count": 8,
   "metadata": {},
   "outputs": [],
   "source": [
    "Seiseki = [59, 74, 64, 73, 59, 71, 57, 60, 68, 65, 99, 61, 86, 75, 78, 66, 73, 61, 91, \n",
    "     77, 87, 81, 64, 71, 71, 63, 72, 76, 66, 72, 67, 84, 73, 68, 57, 66, 74, 60, 52, 69, 54,\n",
    "     59, 65, 65, 71, 79, 64, 67, 73, 68, 70, 59, 64, 71, 61, 62, 74, 83, 77, 74, 75, 75, 75, \n",
    "     65, 65, 69, 73, 58, 69, 64, 75, 67, 68, 61, 62, 90, 69, 60, 57, 73]"
   ]
  },
  {
   "cell_type": "code",
   "execution_count": 9,
   "metadata": {},
   "outputs": [
    {
     "data": {
      "text/plain": [
       "(array([  2.,  15.,  16.,  12.,  22.,   5.,   3.,   2.,   2.,   1.]),\n",
       " array([ 52. ,  56.7,  61.4,  66.1,  70.8,  75.5,  80.2,  84.9,  89.6,\n",
       "         94.3,  99. ]),\n",
       " <a list of 10 Patch objects>)"
      ]
     },
     "execution_count": 9,
     "metadata": {},
     "output_type": "execute_result"
    },
    {
     "data": {
      "image/png": "[encoded data removed]",
      "text/plain": [
       "<matplotlib.figure.Figure at 0x11b4ba9e8>"
      ]
     },
     "metadata": {},
     "output_type": "display_data"
    }
   ],
   "source": [
    "plt.hist(Seiseki)"
   ]
  },
  {
   "cell_type": "markdown",
   "metadata": {},
   "source": [
    "hist()は，分類の位置をbins optionで指定できる"
   ]
  },
  {
   "cell_type": "code",
   "execution_count": 10,
   "metadata": {},
   "outputs": [
    {
     "data": {
      "text/plain": [
       "(array([ 10.,  34.,  28.,   5.,   3.]),\n",
       " array([ 50,  60,  70,  80,  90, 100]),\n",
       " <a list of 5 Patch objects>)"
      ]
     },
     "execution_count": 10,
     "metadata": {},
     "output_type": "execute_result"
    },
    {
     "data": {
      "image/png": "[encoded data removed]",
      "text/plain": [
       "<matplotlib.figure.Figure at 0x11cdf6940>"
      ]
     },
     "metadata": {},
     "output_type": "display_data"
    }
   ],
   "source": [
    "plt.hist(Seiseki, bins = (50, 60, 70, 80, 90, 100))"
   ]
  },
  {
   "cell_type": "markdown",
   "metadata": {},
   "source": [
    "## 課題1-2.\n",
    "Make a histogram."
   ]
  },
  {
   "cell_type": "code",
   "execution_count": 23,
   "metadata": {},
   "outputs": [
    {
     "name": "stdout",
     "output_type": "stream",
     "text": [
      "{4, 5, 6, 7, 8, 9, 10, 12, 13, 14, 15, 17, 18}\n"
     ]
    }
   ],
   "source": [
    "Math = [17,13,14,7,12,10,6,8,15,4,14,9,6,10,12,5,12,8,8,12,15,18]\n",
    "math_grade = set(Math)\n",
    "print(math_grade)"
   ]
  },
  {
   "cell_type": "code",
   "execution_count": 28,
   "metadata": {},
   "outputs": [],
   "source": [
    "math_degree = table(Math)"
   ]
  },
  {
   "cell_type": "code",
   "execution_count": 30,
   "metadata": {},
   "outputs": [
    {
     "data": {
      "text/html": [
       "<div>\n",
       "<table border=\"1\" class=\"dataframe\">\n",
       "  <thead>\n",
       "    <tr style=\"text-align: right;\">\n",
       "      <th></th>\n",
       "      <th>4</th>\n",
       "      <th>5</th>\n",
       "      <th>6</th>\n",
       "      <th>7</th>\n",
       "      <th>8</th>\n",
       "      <th>9</th>\n",
       "      <th>10</th>\n",
       "      <th>12</th>\n",
       "      <th>13</th>\n",
       "      <th>14</th>\n",
       "      <th>15</th>\n",
       "      <th>17</th>\n",
       "      <th>18</th>\n",
       "    </tr>\n",
       "  </thead>\n",
       "  <tbody>\n",
       "    <tr>\n",
       "      <th>Degree of Math</th>\n",
       "      <td>1</td>\n",
       "      <td>1</td>\n",
       "      <td>2</td>\n",
       "      <td>1</td>\n",
       "      <td>3</td>\n",
       "      <td>1</td>\n",
       "      <td>2</td>\n",
       "      <td>4</td>\n",
       "      <td>1</td>\n",
       "      <td>2</td>\n",
       "      <td>2</td>\n",
       "      <td>1</td>\n",
       "      <td>1</td>\n",
       "    </tr>\n",
       "  </tbody>\n",
       "</table>\n",
       "</div>"
      ],
      "text/plain": [
       "                4   5   6   7   8   9   10  12  13  14  15  17  18\n",
       "Degree of Math   1   1   2   1   3   1   2   4   1   2   2   1   1"
      ]
     },
     "execution_count": 30,
     "metadata": {},
     "output_type": "execute_result"
    }
   ],
   "source": [
    "df = pd.DataFrame({key:[math_degree[key]] for key in math_degree})\n",
    "df.index = [\"Degree of Math\"]\n",
    "df"
   ]
  },
  {
   "cell_type": "code",
   "execution_count": 31,
   "metadata": {},
   "outputs": [
    {
     "data": {
      "text/plain": [
       "([<matplotlib.axis.XTick at 0x11ed3b9b0>,\n",
       "  <matplotlib.axis.XTick at 0x11ed21208>,\n",
       "  <matplotlib.axis.XTick at 0x11ed79da0>,\n",
       "  <matplotlib.axis.XTick at 0x11ed01c50>,\n",
       "  <matplotlib.axis.XTick at 0x11ecea668>,\n",
       "  <matplotlib.axis.XTick at 0x11ecf5080>,\n",
       "  <matplotlib.axis.XTick at 0x11ecf5a58>,\n",
       "  <matplotlib.axis.XTick at 0x11ecd3470>,\n",
       "  <matplotlib.axis.XTick at 0x11ecd3e48>,\n",
       "  <matplotlib.axis.XTick at 0x11ecd8860>,\n",
       "  <matplotlib.axis.XTick at 0x11ed350f0>,\n",
       "  <matplotlib.axis.XTick at 0x11ed1a3c8>,\n",
       "  <matplotlib.axis.XTick at 0x11ed69390>],\n",
       " <a list of 13 Text xticklabel objects>)"
      ]
     },
     "execution_count": 31,
     "metadata": {},
     "output_type": "execute_result"
    },
    {
     "data": {
      "image/png": "[encoded data removed]",
      "text/plain": [
       "<matplotlib.figure.Figure at 0x11ed2a908>"
      ]
     },
     "metadata": {},
     "output_type": "display_data"
    }
   ],
   "source": [
    "ind = range(len(math_degree.keys()))\n",
    "plt.bar(ind, math_degree.values())\n",
    "plt.xticks(ind, math_degree.keys())"
   ]
  },
  {
   "cell_type": "code",
   "execution_count": 37,
   "metadata": {},
   "outputs": [
    {
     "data": {
      "text/plain": [
       "(array([ 9.,  2.,  4.,  3.,  2.,  2.]),\n",
       " array([ 4, 10, 12, 13, 15, 16, 18]),\n",
       " <a list of 6 Patch objects>)"
      ]
     },
     "execution_count": 37,
     "metadata": {},
     "output_type": "execute_result"
    },
    {
     "data": {
      "image/png": "[encoded data removed]",
      "text/plain": [
       "<matplotlib.figure.Figure at 0x11f51b0b8>"
      ]
     },
     "metadata": {},
     "output_type": "display_data"
    }
   ],
   "source": [
    "plt.hist(Math, bins=(4, 10, 12, 13, 15, 16, 18))"
   ]
  },
  {
   "cell_type": "markdown",
   "metadata": {},
   "source": [
    "# 代表値\n",
    "* mean\n",
    "* median\n",
    "* mode"
   ]
  },
  {
   "cell_type": "markdown",
   "metadata": {},
   "source": [
    "## 1-4. \n",
    "平均，中央値，最頻値"
   ]
  },
  {
   "cell_type": "code",
   "execution_count": 38,
   "metadata": {},
   "outputs": [
    {
     "name": "stdout",
     "output_type": "stream",
     "text": [
      "mean =     9.81\n",
      "[ 1  1  1  1  2  2  2  2  2  2  2  3  3  3  3  3  3  3  4  4  5  5  5  5  5\n",
      "  5  6  6  6  6  7  7  7  7  7  8  8  9 10 10 11 11 11 11 12 12 12 12 12 13\n",
      " 13 13 13 14 14 14 14 15 15 15 15 15 16 16 16 16 17 17 17 17 17 18 18 18 19\n",
      " 19 19 19 19 19]\n"
     ]
    }
   ],
   "source": [
    "import numpy as np\n",
    "data = np.array(np.random.randint(1,20, 80))\n",
    "print(\"mean = %8.2f\" % (data.mean()))\n",
    "data.sort()\n",
    "print(data)"
   ]
  },
  {
   "cell_type": "code",
   "execution_count": 40,
   "metadata": {},
   "outputs": [
    {
     "name": "stdout",
     "output_type": "stream",
     "text": [
      "median =  10.5\n"
     ]
    }
   ],
   "source": [
    "print(\"median = \", np.median(data))"
   ]
  },
  {
   "cell_type": "code",
   "execution_count": 49,
   "metadata": {},
   "outputs": [
    {
     "data": {
      "text/html": [
       "<div>\n",
       "<table border=\"1\" class=\"dataframe\">\n",
       "  <thead>\n",
       "    <tr style=\"text-align: right;\">\n",
       "      <th></th>\n",
       "      <th>0</th>\n",
       "    </tr>\n",
       "  </thead>\n",
       "  <tbody>\n",
       "    <tr>\n",
       "      <th>0</th>\n",
       "      <td>2</td>\n",
       "    </tr>\n",
       "    <tr>\n",
       "      <th>1</th>\n",
       "      <td>3</td>\n",
       "    </tr>\n",
       "  </tbody>\n",
       "</table>\n",
       "</div>"
      ],
      "text/plain": [
       "   0\n",
       "0  2\n",
       "1  3"
      ]
     },
     "execution_count": 49,
     "metadata": {},
     "output_type": "execute_result"
    }
   ],
   "source": [
    "df = pd.DataFrame(data)\n",
    "df.mode()"
   ]
  },
  {
   "cell_type": "code",
   "execution_count": null,
   "metadata": {},
   "outputs": [],
   "source": []
  }
 ],
 "metadata": {
  "anaconda-cloud": {},
  "kernelspec": {
   "display_name": "Python [Root]",
   "language": "python",
   "name": "Python [Root]"
  },
  "language_info": {
   "codemirror_mode": {
    "name": "ipython",
    "version": 3
   },
   "file_extension": ".py",
   "mimetype": "text/x-python",
   "name": "python",
   "nbconvert_exporter": "python",
   "pygments_lexer": "ipython3",
   "version": "3.5.4"
  }
 },
 "nbformat": 4,
 "nbformat_minor": 2
}
